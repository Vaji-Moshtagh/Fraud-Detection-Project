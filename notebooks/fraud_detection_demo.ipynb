{
 "cells": [
  {
   "cell_type": "markdown",
   "metadata": {},
   "source": [
    "# Credit Card Fraud Detection\n",
    "\n",
    "This notebook demonstrates a complete workflow for credit card fraud detection, including:\n",
    "- Data preparation and exploration\n",
    "- Visualization of imbalanced classes\n",
    "- Balancing the dataset using SMOTE\n",
    "- Training and evaluating a fraud detection model"
   ]
  },
  {
   "cell_type": "code",
   "execution_count": null,
   "metadata": {},
   "source": [
    "# Import libraries\n",
    "import numpy as np\n",
    "import pandas as pd\n",
    "import matplotlib.pyplot as plt\n",
    "import seaborn as sns\n",
    "\n",
    "# Import our custom modules\n",
    "import sys\n",
    "sys.path.append('..')\n",
    "from src.data_processor import load_credit_data, prepare_features_labels, scale_features\n",
    "from src.visualization import plot_class_distribution, scatter_2d_data, compare_distributions\n",
    "from src.balancing import apply_pca, apply_smote\n",
    "from src.model import split_data, train_evaluate_model"
   ]
  },
  {
   "cell_type": "markdown",
   "metadata": {},
   "source": [
    "## 1. Load and Explore the Data\n",
    "\n",
    "First, we'll load the credit card fraud dataset. You can download it from Kaggle: https://www.kaggle.com/datasets/mlg-ulb/creditcardfraud"
   ]
  },
  {
   "cell_type": "code",
   "execution_count": null,
   "metadata": {},
   "source": [
    "# Load data (adjust the path as needed)\n",
    "df = load_credit_data('path_to_your_data/creditcard.csv')\n",
    "\n",
    "# Display the first few rows\n",
    "df.head()"
   ]
  },
  {
   "cell_type": "code",
   "execution_count": null,
   "metadata": {},
   "source": [
    "# Prepare features and labels\n",
    "X, y = prepare_features_labels(df)\n",
    "\n",
    "# Visualize class distribution\n",
    "plot_class_distribution(y)"
   ]
  },
  {
   "cell_type": "markdown",
   "metadata": {},
   "source": [
    "## 2. Preprocess and Visualize the Data"
   ]
  },
  {
   "cell_type": "code",
   "execution_count": null,
   "metadata": {},
   "source": [
    "# Scale features\n",
    "X_scaled = scale_features(X)\n",
    "\n",
    "# Apply PCA to visualize in 2D\n",
    "X_pca = apply_pca(X_scaled, n_components=2)\n",
    "\n",
    "# Plot the 2D projection\n",
    "scatter_2d_data(X_pca, y, title=\"PCA Projection of Credit Card Transactions\")"
   ]
  },
  {
   "cell_type": "markdown",
   "metadata": {},
   "source": [
    "## 3. Apply SMOTE to Handle Class Imbalance"
   ]
  },
  {
   "cell_type": "code",
   "execution_count": null,
   "metadata": {},
   "source": [
    "# Apply SMOTE to the PCA-transformed data for visualization\n",
    "X_pca_resampled, y_resampled = apply_smote(X_pca, y)\n",
    "\n",
    "# Compare before and after distributions\n",
    "compare_distributions(X_pca, y, X_pca_resampled, y_resampled, method_name=\"SMOTE\")"
   ]
  },
  {
   "cell_type": "markdown",
   "metadata": {},
   "source": [
    "## 4. Train and Evaluate the Model"
   ]
  },
  {
   "cell_type": "code",
   "execution_count": null,
   "metadata": {},
   "source": [
    "# Split the original data\n",
    "X_train, X_test, y_train, y_test = split_data(X_scaled, y)\n",
    "\n",
    "# Train and evaluate without SMOTE\n",
    "print(\"\\n=== Model without SMOTE ===\")\n",
    "model_without_smote = train_evaluate_model(X_train, y_train, X_test, y_test, use_smote=False)\n",
    "\n",
    "# Train and evaluate with SMOTE\n",
    "print(\"\\n=== Model with SMOTE ===\")\n",
    "model_with_smote = train_evaluate_model(X_train, y_train, X_test, y_test, use_smote=True)"
   ]
  },
  {
   "cell_type": "markdown",
   "metadata": {},
   "source": [
    "## 5. Conclusion\n",
    "\n",
    "In this notebook, we've demonstrated:\n",
    "1. How to explore and visualize imbalanced credit card transaction data\n",
    "2. How to apply SMOTE to create a balanced training dataset\n",
    "3. How to train fraud detection models and evaluate their performance\n",
    "\n",
    "The results show how SMOTE can improve the model's ability to detect fraudulent transactions by providing more examples of the minority class."
   ]
  }
 ],
 "metadata": {
  "kernelspec": {
   "display_name": "Python 3",
   "language": "python",
   "name": "python3"
  },
  "language_info": {
   "codemirror_mode": {
    "name": "ipython",
    "version": 3
   },
   "file_extension": ".py",
   "mimetype": "text/x-python",
   "name": "python",
   "nbconvert_exporter": "python",
   "pygments_lexer": "ipython3",
   "version": "3.8.10"
  }
 },
 "nbformat": 4,
 "nbformat_minor": 4
}
